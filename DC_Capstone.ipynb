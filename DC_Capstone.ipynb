{
 "cells": [
  {
   "cell_type": "markdown",
   "metadata": {},
   "source": [
    "<font size ='6'>Battle of the Neighborhoods</font>"
   ]
  },
  {
   "cell_type": "markdown",
   "metadata": {},
   "source": [
    "<font size = '6'>IBM Data Science Capstone</font>"
   ]
  },
  {
   "cell_type": "markdown",
   "metadata": {},
   "source": [
    "<font size='5'>Problem<font>\n",
    "    \n",
    "Washington, DC is an affluent and dynamic city with a thriving restaurant scene. I would like to open a new restaurant, and based on the neighborhood data scraped from the Foursquare API. There are many areas that are overserved, and some that are underserved, and this analysis will determine which areas could be good sites for a new restaurant.\n",
    "Using these data, I will take the following approach:\n",
    "1.\tList the Washington, DC neighborhoods\n",
    "2.\tCluster the neighborhoods using K-means clustering based on Foursquare data\n",
    "3.\tDetermine the number of restaurants in each cluster\n",
    "4.\tContrast that with the number of users in each cluster\n",
    "5.\tDetermine which neighborhood is underrepresented and would best support a restaurant\n"
   ]
  },
  {
   "cell_type": "markdown",
   "metadata": {},
   "source": [
    "<font size ='5'>Data Sources</font>\n",
    "\n",
    "Using Python machine learning, a list of neighborhoods in Washington DC will be clustered using K-means clustering. Each neighborhood has its restaurants, and using this dataset, I will determine which locations would be best to put this restaurant. <br/>\n",
    "The criteria need also to be a popular, and densely populated neighborhood, while being under represented by restaurants.\n",
    "The restaurant data will come from the Foursquare API.\n",
    "The DC neighborhood data will come from the following sources:</br></br>\n",
    "•\tOpen Data DC https://opendata.dc.gov/datasets/ where the list of neighborhoods and their locations will be scraped.</br>\n",
    "•\tDC.gov office of GIS services https://octo.dc.gov/service/dc-gis-services where additional location data will be retrieved</br></br>\n",
    "This is an API that allows scraping for analysis. This will provide a list of neighborhoods, and the neighborhood latitude and longitude.</br>\n",
    "Using this data, I will cluster restaurants by neighborhood, and determine which neighborhoods are underserved by restaurant type and population density. From that analysis, I will determine where I need to establish my new restaurant.\n"
   ]
  },
  {
   "cell_type": "code",
   "execution_count": null,
   "metadata": {},
   "outputs": [],
   "source": []
  },
  {
   "cell_type": "code",
   "execution_count": null,
   "metadata": {},
   "outputs": [],
   "source": []
  }
 ],
 "metadata": {
  "kernelspec": {
   "display_name": "Python",
   "language": "python",
   "name": "conda-env-python-py"
  },
  "language_info": {
   "codemirror_mode": {
    "name": "ipython",
    "version": 3
   },
   "file_extension": ".py",
   "mimetype": "text/x-python",
   "name": "python",
   "nbconvert_exporter": "python",
   "pygments_lexer": "ipython3",
   "version": "3.6.11"
  }
 },
 "nbformat": 4,
 "nbformat_minor": 4
}
